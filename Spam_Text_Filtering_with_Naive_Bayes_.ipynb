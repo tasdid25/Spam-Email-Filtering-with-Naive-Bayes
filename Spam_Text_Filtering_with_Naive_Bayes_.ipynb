{
  "cells": [
    {
      "cell_type": "markdown",
      "id": "b062f314",
      "metadata": {
        "id": "b062f314"
      },
      "source": [
        "<h2 align='center'>NLP: Text Representation - Bag Of Words (BOW)</h2>"
      ]
    },
    {
      "cell_type": "code",
      "execution_count": null,
      "id": "54f8d7a3",
      "metadata": {
        "id": "54f8d7a3"
      },
      "outputs": [],
      "source": [
        "import pandas as pd\n",
        "import numpy as np"
      ]
    },
    {
      "cell_type": "code",
      "execution_count": null,
      "id": "e8912b1f",
      "metadata": {
        "id": "e8912b1f",
        "outputId": "36ca9771-d3fc-48c3-995a-3ed55292603f"
      },
      "outputs": [
        {
          "data": {
            "text/html": [
              "<div>\n",
              "<style scoped>\n",
              "    .dataframe tbody tr th:only-of-type {\n",
              "        vertical-align: middle;\n",
              "    }\n",
              "\n",
              "    .dataframe tbody tr th {\n",
              "        vertical-align: top;\n",
              "    }\n",
              "\n",
              "    .dataframe thead th {\n",
              "        text-align: right;\n",
              "    }\n",
              "</style>\n",
              "<table border=\"1\" class=\"dataframe\">\n",
              "  <thead>\n",
              "    <tr style=\"text-align: right;\">\n",
              "      <th></th>\n",
              "      <th>Category</th>\n",
              "      <th>Message</th>\n",
              "    </tr>\n",
              "  </thead>\n",
              "  <tbody>\n",
              "    <tr>\n",
              "      <th>0</th>\n",
              "      <td>ham</td>\n",
              "      <td>Go until jurong point, crazy.. Available only ...</td>\n",
              "    </tr>\n",
              "    <tr>\n",
              "      <th>1</th>\n",
              "      <td>ham</td>\n",
              "      <td>Ok lar... Joking wif u oni...</td>\n",
              "    </tr>\n",
              "    <tr>\n",
              "      <th>2</th>\n",
              "      <td>spam</td>\n",
              "      <td>Free entry in 2 a wkly comp to win FA Cup fina...</td>\n",
              "    </tr>\n",
              "    <tr>\n",
              "      <th>3</th>\n",
              "      <td>ham</td>\n",
              "      <td>U dun say so early hor... U c already then say...</td>\n",
              "    </tr>\n",
              "    <tr>\n",
              "      <th>4</th>\n",
              "      <td>ham</td>\n",
              "      <td>Nah I don't think he goes to usf, he lives aro...</td>\n",
              "    </tr>\n",
              "    <tr>\n",
              "      <th>...</th>\n",
              "      <td>...</td>\n",
              "      <td>...</td>\n",
              "    </tr>\n",
              "    <tr>\n",
              "      <th>5567</th>\n",
              "      <td>spam</td>\n",
              "      <td>This is the 2nd time we have tried 2 contact u...</td>\n",
              "    </tr>\n",
              "    <tr>\n",
              "      <th>5568</th>\n",
              "      <td>ham</td>\n",
              "      <td>Will ü b going to esplanade fr home?</td>\n",
              "    </tr>\n",
              "    <tr>\n",
              "      <th>5569</th>\n",
              "      <td>ham</td>\n",
              "      <td>Pity, * was in mood for that. So...any other s...</td>\n",
              "    </tr>\n",
              "    <tr>\n",
              "      <th>5570</th>\n",
              "      <td>ham</td>\n",
              "      <td>The guy did some bitching but I acted like i'd...</td>\n",
              "    </tr>\n",
              "    <tr>\n",
              "      <th>5571</th>\n",
              "      <td>ham</td>\n",
              "      <td>Rofl. Its true to its name</td>\n",
              "    </tr>\n",
              "  </tbody>\n",
              "</table>\n",
              "<p>5572 rows × 2 columns</p>\n",
              "</div>"
            ],
            "text/plain": [
              "     Category                                            Message\n",
              "0         ham  Go until jurong point, crazy.. Available only ...\n",
              "1         ham                      Ok lar... Joking wif u oni...\n",
              "2        spam  Free entry in 2 a wkly comp to win FA Cup fina...\n",
              "3         ham  U dun say so early hor... U c already then say...\n",
              "4         ham  Nah I don't think he goes to usf, he lives aro...\n",
              "...       ...                                                ...\n",
              "5567     spam  This is the 2nd time we have tried 2 contact u...\n",
              "5568      ham               Will ü b going to esplanade fr home?\n",
              "5569      ham  Pity, * was in mood for that. So...any other s...\n",
              "5570      ham  The guy did some bitching but I acted like i'd...\n",
              "5571      ham                         Rofl. Its true to its name\n",
              "\n",
              "[5572 rows x 2 columns]"
            ]
          },
          "execution_count": 2,
          "metadata": {},
          "output_type": "execute_result"
        }
      ],
      "source": [
        "df = pd.read_csv(\"spam.csv\")\n",
        "df"
      ]
    },
    {
      "cell_type": "code",
      "execution_count": null,
      "id": "e4f5ae86",
      "metadata": {
        "id": "e4f5ae86",
        "outputId": "8f587ab0-b22e-4449-ef62-790d8179da2a"
      },
      "outputs": [
        {
          "data": {
            "text/plain": [
              "Category\n",
              "ham     4825\n",
              "spam     747\n",
              "Name: count, dtype: int64"
            ]
          },
          "execution_count": 3,
          "metadata": {},
          "output_type": "execute_result"
        }
      ],
      "source": [
        "df.Category.value_counts()"
      ]
    },
    {
      "cell_type": "code",
      "execution_count": null,
      "id": "6b665e00",
      "metadata": {
        "id": "6b665e00",
        "outputId": "bf1c6b77-d4fc-48a1-95cf-bc0ae3a68ad4"
      },
      "outputs": [
        {
          "data": {
            "text/plain": [
              "(5572, 2)"
            ]
          },
          "execution_count": 4,
          "metadata": {},
          "output_type": "execute_result"
        }
      ],
      "source": [
        "df.shape"
      ]
    },
    {
      "cell_type": "code",
      "execution_count": null,
      "id": "0fdd3b0c",
      "metadata": {
        "scrolled": true,
        "id": "0fdd3b0c",
        "outputId": "bab79cf5-b997-47d7-b176-c2fec0d2a75d"
      },
      "outputs": [
        {
          "data": {
            "text/html": [
              "<div>\n",
              "<style scoped>\n",
              "    .dataframe tbody tr th:only-of-type {\n",
              "        vertical-align: middle;\n",
              "    }\n",
              "\n",
              "    .dataframe tbody tr th {\n",
              "        vertical-align: top;\n",
              "    }\n",
              "\n",
              "    .dataframe thead th {\n",
              "        text-align: right;\n",
              "    }\n",
              "</style>\n",
              "<table border=\"1\" class=\"dataframe\">\n",
              "  <thead>\n",
              "    <tr style=\"text-align: right;\">\n",
              "      <th></th>\n",
              "      <th>Category</th>\n",
              "      <th>Message</th>\n",
              "    </tr>\n",
              "  </thead>\n",
              "  <tbody>\n",
              "    <tr>\n",
              "      <th>0</th>\n",
              "      <td>ham</td>\n",
              "      <td>Go until jurong point, crazy.. Available only ...</td>\n",
              "    </tr>\n",
              "    <tr>\n",
              "      <th>1</th>\n",
              "      <td>ham</td>\n",
              "      <td>Ok lar... Joking wif u oni...</td>\n",
              "    </tr>\n",
              "    <tr>\n",
              "      <th>2</th>\n",
              "      <td>spam</td>\n",
              "      <td>Free entry in 2 a wkly comp to win FA Cup fina...</td>\n",
              "    </tr>\n",
              "    <tr>\n",
              "      <th>3</th>\n",
              "      <td>ham</td>\n",
              "      <td>U dun say so early hor... U c already then say...</td>\n",
              "    </tr>\n",
              "    <tr>\n",
              "      <th>4</th>\n",
              "      <td>ham</td>\n",
              "      <td>Nah I don't think he goes to usf, he lives aro...</td>\n",
              "    </tr>\n",
              "    <tr>\n",
              "      <th>...</th>\n",
              "      <td>...</td>\n",
              "      <td>...</td>\n",
              "    </tr>\n",
              "    <tr>\n",
              "      <th>5567</th>\n",
              "      <td>spam</td>\n",
              "      <td>This is the 2nd time we have tried 2 contact u...</td>\n",
              "    </tr>\n",
              "    <tr>\n",
              "      <th>5568</th>\n",
              "      <td>ham</td>\n",
              "      <td>Will ü b going to esplanade fr home?</td>\n",
              "    </tr>\n",
              "    <tr>\n",
              "      <th>5569</th>\n",
              "      <td>ham</td>\n",
              "      <td>Pity, * was in mood for that. So...any other s...</td>\n",
              "    </tr>\n",
              "    <tr>\n",
              "      <th>5570</th>\n",
              "      <td>ham</td>\n",
              "      <td>The guy did some bitching but I acted like i'd...</td>\n",
              "    </tr>\n",
              "    <tr>\n",
              "      <th>5571</th>\n",
              "      <td>ham</td>\n",
              "      <td>Rofl. Its true to its name</td>\n",
              "    </tr>\n",
              "  </tbody>\n",
              "</table>\n",
              "<p>5572 rows × 2 columns</p>\n",
              "</div>"
            ],
            "text/plain": [
              "     Category                                            Message\n",
              "0         ham  Go until jurong point, crazy.. Available only ...\n",
              "1         ham                      Ok lar... Joking wif u oni...\n",
              "2        spam  Free entry in 2 a wkly comp to win FA Cup fina...\n",
              "3         ham  U dun say so early hor... U c already then say...\n",
              "4         ham  Nah I don't think he goes to usf, he lives aro...\n",
              "...       ...                                                ...\n",
              "5567     spam  This is the 2nd time we have tried 2 contact u...\n",
              "5568      ham               Will ü b going to esplanade fr home?\n",
              "5569      ham  Pity, * was in mood for that. So...any other s...\n",
              "5570      ham  The guy did some bitching but I acted like i'd...\n",
              "5571      ham                         Rofl. Its true to its name\n",
              "\n",
              "[5572 rows x 2 columns]"
            ]
          },
          "execution_count": 5,
          "metadata": {},
          "output_type": "execute_result"
        }
      ],
      "source": [
        "df"
      ]
    },
    {
      "cell_type": "markdown",
      "id": "c14da82f",
      "metadata": {
        "id": "c14da82f"
      },
      "source": [
        "<h3>Train test split</h3>"
      ]
    },
    {
      "cell_type": "code",
      "execution_count": null,
      "id": "55c57d7e",
      "metadata": {
        "id": "55c57d7e"
      },
      "outputs": [],
      "source": [
        "from sklearn.model_selection import train_test_split\n",
        "\n",
        "X_train, X_test, y_train, y_test = train_test_split(df.Message, df.Category, test_size=0.2, random_state=1)"
      ]
    },
    {
      "cell_type": "code",
      "execution_count": null,
      "id": "0c434635",
      "metadata": {
        "id": "0c434635",
        "outputId": "4ec5865e-e1a7-478f-d149-c9907ec3df0a"
      },
      "outputs": [
        {
          "data": {
            "text/plain": [
              "(4457,)"
            ]
          },
          "execution_count": 7,
          "metadata": {},
          "output_type": "execute_result"
        }
      ],
      "source": [
        "X_train.shape"
      ]
    },
    {
      "cell_type": "code",
      "execution_count": null,
      "id": "0322e41b",
      "metadata": {
        "id": "0322e41b",
        "outputId": "1df64008-c209-4f16-db97-71c0a5b22308"
      },
      "outputs": [
        {
          "data": {
            "text/plain": [
              "(1115,)"
            ]
          },
          "execution_count": 8,
          "metadata": {},
          "output_type": "execute_result"
        }
      ],
      "source": [
        "X_test.shape"
      ]
    },
    {
      "cell_type": "code",
      "execution_count": null,
      "id": "ae07ed88",
      "metadata": {
        "id": "ae07ed88"
      },
      "outputs": [],
      "source": [
        "X_test"
      ]
    },
    {
      "cell_type": "code",
      "execution_count": null,
      "id": "2b8afdd0",
      "metadata": {
        "id": "2b8afdd0",
        "outputId": "b05864db-493e-44f4-b1be-1882250dd9ee"
      },
      "outputs": [
        {
          "data": {
            "text/plain": [
              "1642    Hi , where are you? We're at  and they're not ...\n",
              "2899          If you r @ home then come down within 5 min\n",
              "480     When're you guys getting back? G said you were...\n",
              "3485    Tell my  bad character which u Dnt lik in me. ...\n",
              "157                           I'm leaving my house now...\n",
              "                              ...                        \n",
              "905     We're all getting worried over here, derek and...\n",
              "5192    Oh oh... Den muz change plan liao... Go back h...\n",
              "3980    CERI U REBEL! SWEET DREAMZ ME LITTLE BUDDY!! C...\n",
              "235     Text & meet someone sexy today. U can find a d...\n",
              "5157                              K k:) sms chat with me.\n",
              "Name: Message, Length: 4457, dtype: object"
            ]
          },
          "execution_count": 9,
          "metadata": {},
          "output_type": "execute_result"
        }
      ],
      "source": [
        "X_train"
      ]
    },
    {
      "cell_type": "code",
      "execution_count": null,
      "id": "4c31562f",
      "metadata": {
        "id": "4c31562f",
        "outputId": "1eaffbac-60e2-4918-eff3-5f4b30207b03"
      },
      "outputs": [
        {
          "data": {
            "text/plain": [
              "1642    Hi , where are you? We're at  and they're not ...\n",
              "2899          If you r @ home then come down within 5 min\n",
              "480     When're you guys getting back? G said you were...\n",
              "3485    Tell my  bad character which u Dnt lik in me. ...\n",
              "Name: Message, dtype: object"
            ]
          },
          "execution_count": 10,
          "metadata": {},
          "output_type": "execute_result"
        }
      ],
      "source": [
        "X_train[:4]"
      ]
    },
    {
      "cell_type": "code",
      "execution_count": null,
      "id": "425d18a6",
      "metadata": {
        "id": "425d18a6",
        "outputId": "fa2b3cb9-c874-42bf-f6c0-d7703284519f"
      },
      "outputs": [
        {
          "data": {
            "text/plain": [
              "pandas.core.series.Series"
            ]
          },
          "execution_count": 11,
          "metadata": {},
          "output_type": "execute_result"
        }
      ],
      "source": [
        "type(y_train)"
      ]
    },
    {
      "cell_type": "code",
      "execution_count": null,
      "id": "0a441180",
      "metadata": {
        "id": "0a441180",
        "outputId": "e8ea6e56-17a0-4942-a90a-7bafa1daffdf"
      },
      "outputs": [
        {
          "data": {
            "text/plain": [
              "1642    ham\n",
              "2899    ham\n",
              "480     ham\n",
              "3485    ham\n",
              "Name: Category, dtype: object"
            ]
          },
          "execution_count": 12,
          "metadata": {},
          "output_type": "execute_result"
        }
      ],
      "source": [
        "y_train[:4]"
      ]
    },
    {
      "cell_type": "code",
      "execution_count": null,
      "id": "199cf713",
      "metadata": {
        "id": "199cf713",
        "outputId": "eb124a85-d919-44a3-969b-181c93f9911b"
      },
      "outputs": [
        {
          "data": {
            "text/plain": [
              "array([\"Hi , where are you? We're at  and they're not keen to go out i kind of am but feel i shouldn't so can we go out tomo, don't mind do you?\",\n",
              "       'If you r @ home then come down within 5 min',\n",
              "       \"When're you guys getting back? G said you were thinking about not staying for mcr\",\n",
              "       ...,\n",
              "       'CERI U REBEL! SWEET DREAMZ ME LITTLE BUDDY!! C YA 2MORO! WHO NEEDS BLOKES',\n",
              "       'Text & meet someone sexy today. U can find a date or even flirt its up to U. Join 4 just 10p. REPLY with NAME & AGE eg Sam 25. 18 -msg recd@thirtyeight pence',\n",
              "       'K k:) sms chat with me.'], dtype=object)"
            ]
          },
          "execution_count": 13,
          "metadata": {},
          "output_type": "execute_result"
        }
      ],
      "source": [
        "X_train.values"
      ]
    },
    {
      "cell_type": "code",
      "execution_count": null,
      "id": "249b01ce",
      "metadata": {
        "id": "249b01ce"
      },
      "outputs": [],
      "source": [
        "X_train.values.shape"
      ]
    },
    {
      "cell_type": "code",
      "execution_count": null,
      "id": "0144b67b",
      "metadata": {
        "scrolled": true,
        "id": "0144b67b"
      },
      "outputs": [],
      "source": [
        "type(X_train.values)"
      ]
    },
    {
      "cell_type": "markdown",
      "id": "b7d2c01f",
      "metadata": {
        "id": "b7d2c01f"
      },
      "source": [
        "<h3>Create bag of words representation using CountVectorizer</h3>"
      ]
    },
    {
      "cell_type": "code",
      "execution_count": null,
      "id": "33bf7b78",
      "metadata": {
        "id": "33bf7b78"
      },
      "outputs": [],
      "source": [
        "from sklearn.feature_extraction.text import CountVectorizer\n",
        "\n",
        "v = CountVectorizer()"
      ]
    },
    {
      "cell_type": "code",
      "execution_count": null,
      "id": "fd78712a",
      "metadata": {
        "id": "fd78712a",
        "outputId": "035c357d-3199-4ca8-a99a-ce2b6da8ed53"
      },
      "outputs": [
        {
          "data": {
            "text/plain": [
              "<2x6 sparse matrix of type '<class 'numpy.int64'>'\n",
              "\twith 8 stored elements in Compressed Sparse Row format>"
            ]
          },
          "execution_count": 15,
          "metadata": {},
          "output_type": "execute_result"
        }
      ],
      "source": [
        "emails = [\n",
        "            'Upto 20% discount reward!',\n",
        "            'Hey mohan, discount Upto'\n",
        "         ]\n",
        "\n",
        "emails_cv = v.fit_transform(emails)\n",
        "emails_cv"
      ]
    },
    {
      "cell_type": "code",
      "execution_count": null,
      "id": "6bf10441",
      "metadata": {
        "id": "6bf10441",
        "outputId": "c700c606-c140-408b-a869-a2c8482aa093"
      },
      "outputs": [
        {
          "data": {
            "text/plain": [
              "array([[1, 1, 0, 0, 1, 1],\n",
              "       [0, 1, 1, 1, 0, 1]], dtype=int64)"
            ]
          },
          "execution_count": 16,
          "metadata": {},
          "output_type": "execute_result"
        }
      ],
      "source": [
        "emails_cv.toarray()"
      ]
    },
    {
      "cell_type": "code",
      "execution_count": null,
      "id": "063e1ae9",
      "metadata": {
        "id": "063e1ae9",
        "outputId": "e6240354-1bd9-4c9f-8494-a076b1070a32"
      },
      "outputs": [
        {
          "data": {
            "text/plain": [
              "array(['20', 'discount', 'hey', 'mohan', 'reward', 'upto'], dtype=object)"
            ]
          },
          "execution_count": 17,
          "metadata": {},
          "output_type": "execute_result"
        }
      ],
      "source": [
        "v.get_feature_names_out()"
      ]
    },
    {
      "cell_type": "code",
      "execution_count": null,
      "id": "2e0023c5",
      "metadata": {
        "id": "2e0023c5",
        "outputId": "1e4cf7c3-6dff-4645-fd3d-764e553646db"
      },
      "outputs": [
        {
          "data": {
            "text/html": [
              "<div>\n",
              "<style scoped>\n",
              "    .dataframe tbody tr th:only-of-type {\n",
              "        vertical-align: middle;\n",
              "    }\n",
              "\n",
              "    .dataframe tbody tr th {\n",
              "        vertical-align: top;\n",
              "    }\n",
              "\n",
              "    .dataframe thead th {\n",
              "        text-align: right;\n",
              "    }\n",
              "</style>\n",
              "<table border=\"1\" class=\"dataframe\">\n",
              "  <thead>\n",
              "    <tr style=\"text-align: right;\">\n",
              "      <th></th>\n",
              "      <th>20</th>\n",
              "      <th>discount</th>\n",
              "      <th>hey</th>\n",
              "      <th>mohan</th>\n",
              "      <th>reward</th>\n",
              "      <th>upto</th>\n",
              "    </tr>\n",
              "  </thead>\n",
              "  <tbody>\n",
              "    <tr>\n",
              "      <th>0</th>\n",
              "      <td>1</td>\n",
              "      <td>1</td>\n",
              "      <td>0</td>\n",
              "      <td>0</td>\n",
              "      <td>1</td>\n",
              "      <td>1</td>\n",
              "    </tr>\n",
              "    <tr>\n",
              "      <th>1</th>\n",
              "      <td>0</td>\n",
              "      <td>1</td>\n",
              "      <td>1</td>\n",
              "      <td>1</td>\n",
              "      <td>0</td>\n",
              "      <td>1</td>\n",
              "    </tr>\n",
              "  </tbody>\n",
              "</table>\n",
              "</div>"
            ],
            "text/plain": [
              "   20  discount  hey  mohan  reward  upto\n",
              "0   1         1    0      0       1     1\n",
              "1   0         1    1      1       0     1"
            ]
          },
          "execution_count": 18,
          "metadata": {},
          "output_type": "execute_result"
        }
      ],
      "source": [
        "pd.DataFrame(emails_cv.toarray(), columns=v.get_feature_names_out())"
      ]
    },
    {
      "cell_type": "code",
      "execution_count": null,
      "id": "41a212bd",
      "metadata": {
        "id": "41a212bd",
        "outputId": "96dad45b-ba04-4bc4-f6d7-d23685ac73e1"
      },
      "outputs": [
        {
          "data": {
            "text/plain": [
              "<4457x7711 sparse matrix of type '<class 'numpy.int64'>'\n",
              "\twith 58978 stored elements in Compressed Sparse Row format>"
            ]
          },
          "execution_count": 19,
          "metadata": {},
          "output_type": "execute_result"
        }
      ],
      "source": [
        "v = CountVectorizer()\n",
        "\n",
        "X_train_cv = v.fit_transform(X_train.values)\n",
        "X_train_cv"
      ]
    },
    {
      "cell_type": "code",
      "execution_count": null,
      "id": "7c51bd2f",
      "metadata": {
        "id": "7c51bd2f",
        "outputId": "88ee12d3-944d-49fb-8b5a-9e1aedbba7e5"
      },
      "outputs": [
        {
          "data": {
            "text/plain": [
              "array([[0, 0, 0, ..., 0, 0, 0],\n",
              "       [0, 0, 0, ..., 0, 0, 0],\n",
              "       [0, 0, 0, ..., 0, 0, 0],\n",
              "       ...,\n",
              "       [0, 0, 0, ..., 0, 0, 0],\n",
              "       [0, 0, 0, ..., 0, 0, 0],\n",
              "       [0, 0, 0, ..., 0, 0, 0]], dtype=int64)"
            ]
          },
          "execution_count": 20,
          "metadata": {},
          "output_type": "execute_result"
        }
      ],
      "source": [
        "X_train_cv.toarray()"
      ]
    },
    {
      "cell_type": "code",
      "execution_count": null,
      "id": "e3846715",
      "metadata": {
        "id": "e3846715",
        "outputId": "656a518a-b244-4fc9-b0c7-ca5f16b8fe84"
      },
      "outputs": [
        {
          "data": {
            "text/plain": [
              "(4457, 7711)"
            ]
          },
          "execution_count": 21,
          "metadata": {},
          "output_type": "execute_result"
        }
      ],
      "source": [
        "X_train_cv.shape"
      ]
    },
    {
      "cell_type": "code",
      "execution_count": null,
      "id": "3e003e1f",
      "metadata": {
        "id": "3e003e1f",
        "outputId": "26f66a46-5245-4ed6-b54f-194a307edca2"
      },
      "outputs": [
        {
          "data": {
            "text/plain": [
              "array([[0, 0, 0, ..., 0, 0, 0]], dtype=int64)"
            ]
          },
          "execution_count": 22,
          "metadata": {},
          "output_type": "execute_result"
        }
      ],
      "source": [
        "X_train_cv[0].toarray()"
      ]
    },
    {
      "cell_type": "code",
      "execution_count": null,
      "id": "12f55cc1",
      "metadata": {
        "id": "12f55cc1",
        "outputId": "0940bbf8-631d-4b78-c773-8f3e246c0177"
      },
      "outputs": [
        {
          "data": {
            "text/plain": [
              "array(['00', '000', '008704050406', ..., 'zyada', 'èn', '〨ud'],\n",
              "      dtype=object)"
            ]
          },
          "execution_count": 23,
          "metadata": {},
          "output_type": "execute_result"
        }
      ],
      "source": [
        "v.get_feature_names_out()"
      ]
    },
    {
      "cell_type": "code",
      "execution_count": null,
      "id": "cd92b82f",
      "metadata": {
        "id": "cd92b82f",
        "outputId": "dbfb2290-ce24-4996-d76f-3fd37f4b2b13"
      },
      "outputs": [
        {
          "data": {
            "text/html": [
              "<div>\n",
              "<style scoped>\n",
              "    .dataframe tbody tr th:only-of-type {\n",
              "        vertical-align: middle;\n",
              "    }\n",
              "\n",
              "    .dataframe tbody tr th {\n",
              "        vertical-align: top;\n",
              "    }\n",
              "\n",
              "    .dataframe thead th {\n",
              "        text-align: right;\n",
              "    }\n",
              "</style>\n",
              "<table border=\"1\" class=\"dataframe\">\n",
              "  <thead>\n",
              "    <tr style=\"text-align: right;\">\n",
              "      <th></th>\n",
              "      <th>00</th>\n",
              "      <th>000</th>\n",
              "      <th>008704050406</th>\n",
              "      <th>0121</th>\n",
              "      <th>01223585236</th>\n",
              "      <th>01223585334</th>\n",
              "      <th>0125698789</th>\n",
              "      <th>02</th>\n",
              "      <th>0207</th>\n",
              "      <th>02072069400</th>\n",
              "      <th>...</th>\n",
              "      <th>zed</th>\n",
              "      <th>zeros</th>\n",
              "      <th>zhong</th>\n",
              "      <th>zindgi</th>\n",
              "      <th>zoe</th>\n",
              "      <th>zoom</th>\n",
              "      <th>zouk</th>\n",
              "      <th>zyada</th>\n",
              "      <th>èn</th>\n",
              "      <th>〨ud</th>\n",
              "    </tr>\n",
              "  </thead>\n",
              "  <tbody>\n",
              "    <tr>\n",
              "      <th>0</th>\n",
              "      <td>0</td>\n",
              "      <td>0</td>\n",
              "      <td>0</td>\n",
              "      <td>0</td>\n",
              "      <td>0</td>\n",
              "      <td>0</td>\n",
              "      <td>0</td>\n",
              "      <td>0</td>\n",
              "      <td>0</td>\n",
              "      <td>0</td>\n",
              "      <td>...</td>\n",
              "      <td>0</td>\n",
              "      <td>0</td>\n",
              "      <td>0</td>\n",
              "      <td>0</td>\n",
              "      <td>0</td>\n",
              "      <td>0</td>\n",
              "      <td>0</td>\n",
              "      <td>0</td>\n",
              "      <td>0</td>\n",
              "      <td>0</td>\n",
              "    </tr>\n",
              "    <tr>\n",
              "      <th>1</th>\n",
              "      <td>0</td>\n",
              "      <td>0</td>\n",
              "      <td>0</td>\n",
              "      <td>0</td>\n",
              "      <td>0</td>\n",
              "      <td>0</td>\n",
              "      <td>0</td>\n",
              "      <td>0</td>\n",
              "      <td>0</td>\n",
              "      <td>0</td>\n",
              "      <td>...</td>\n",
              "      <td>0</td>\n",
              "      <td>0</td>\n",
              "      <td>0</td>\n",
              "      <td>0</td>\n",
              "      <td>0</td>\n",
              "      <td>0</td>\n",
              "      <td>0</td>\n",
              "      <td>0</td>\n",
              "      <td>0</td>\n",
              "      <td>0</td>\n",
              "    </tr>\n",
              "    <tr>\n",
              "      <th>2</th>\n",
              "      <td>0</td>\n",
              "      <td>0</td>\n",
              "      <td>0</td>\n",
              "      <td>0</td>\n",
              "      <td>0</td>\n",
              "      <td>0</td>\n",
              "      <td>0</td>\n",
              "      <td>0</td>\n",
              "      <td>0</td>\n",
              "      <td>0</td>\n",
              "      <td>...</td>\n",
              "      <td>0</td>\n",
              "      <td>0</td>\n",
              "      <td>0</td>\n",
              "      <td>0</td>\n",
              "      <td>0</td>\n",
              "      <td>0</td>\n",
              "      <td>0</td>\n",
              "      <td>0</td>\n",
              "      <td>0</td>\n",
              "      <td>0</td>\n",
              "    </tr>\n",
              "    <tr>\n",
              "      <th>3</th>\n",
              "      <td>0</td>\n",
              "      <td>0</td>\n",
              "      <td>0</td>\n",
              "      <td>0</td>\n",
              "      <td>0</td>\n",
              "      <td>0</td>\n",
              "      <td>0</td>\n",
              "      <td>0</td>\n",
              "      <td>0</td>\n",
              "      <td>0</td>\n",
              "      <td>...</td>\n",
              "      <td>0</td>\n",
              "      <td>0</td>\n",
              "      <td>0</td>\n",
              "      <td>0</td>\n",
              "      <td>0</td>\n",
              "      <td>0</td>\n",
              "      <td>0</td>\n",
              "      <td>0</td>\n",
              "      <td>0</td>\n",
              "      <td>0</td>\n",
              "    </tr>\n",
              "    <tr>\n",
              "      <th>4</th>\n",
              "      <td>0</td>\n",
              "      <td>0</td>\n",
              "      <td>0</td>\n",
              "      <td>0</td>\n",
              "      <td>0</td>\n",
              "      <td>0</td>\n",
              "      <td>0</td>\n",
              "      <td>0</td>\n",
              "      <td>0</td>\n",
              "      <td>0</td>\n",
              "      <td>...</td>\n",
              "      <td>0</td>\n",
              "      <td>0</td>\n",
              "      <td>0</td>\n",
              "      <td>0</td>\n",
              "      <td>0</td>\n",
              "      <td>0</td>\n",
              "      <td>0</td>\n",
              "      <td>0</td>\n",
              "      <td>0</td>\n",
              "      <td>0</td>\n",
              "    </tr>\n",
              "    <tr>\n",
              "      <th>...</th>\n",
              "      <td>...</td>\n",
              "      <td>...</td>\n",
              "      <td>...</td>\n",
              "      <td>...</td>\n",
              "      <td>...</td>\n",
              "      <td>...</td>\n",
              "      <td>...</td>\n",
              "      <td>...</td>\n",
              "      <td>...</td>\n",
              "      <td>...</td>\n",
              "      <td>...</td>\n",
              "      <td>...</td>\n",
              "      <td>...</td>\n",
              "      <td>...</td>\n",
              "      <td>...</td>\n",
              "      <td>...</td>\n",
              "      <td>...</td>\n",
              "      <td>...</td>\n",
              "      <td>...</td>\n",
              "      <td>...</td>\n",
              "      <td>...</td>\n",
              "    </tr>\n",
              "    <tr>\n",
              "      <th>4452</th>\n",
              "      <td>0</td>\n",
              "      <td>0</td>\n",
              "      <td>0</td>\n",
              "      <td>0</td>\n",
              "      <td>0</td>\n",
              "      <td>0</td>\n",
              "      <td>0</td>\n",
              "      <td>0</td>\n",
              "      <td>0</td>\n",
              "      <td>0</td>\n",
              "      <td>...</td>\n",
              "      <td>0</td>\n",
              "      <td>0</td>\n",
              "      <td>0</td>\n",
              "      <td>0</td>\n",
              "      <td>0</td>\n",
              "      <td>0</td>\n",
              "      <td>0</td>\n",
              "      <td>0</td>\n",
              "      <td>0</td>\n",
              "      <td>0</td>\n",
              "    </tr>\n",
              "    <tr>\n",
              "      <th>4453</th>\n",
              "      <td>0</td>\n",
              "      <td>0</td>\n",
              "      <td>0</td>\n",
              "      <td>0</td>\n",
              "      <td>0</td>\n",
              "      <td>0</td>\n",
              "      <td>0</td>\n",
              "      <td>0</td>\n",
              "      <td>0</td>\n",
              "      <td>0</td>\n",
              "      <td>...</td>\n",
              "      <td>0</td>\n",
              "      <td>0</td>\n",
              "      <td>0</td>\n",
              "      <td>0</td>\n",
              "      <td>0</td>\n",
              "      <td>0</td>\n",
              "      <td>0</td>\n",
              "      <td>0</td>\n",
              "      <td>0</td>\n",
              "      <td>0</td>\n",
              "    </tr>\n",
              "    <tr>\n",
              "      <th>4454</th>\n",
              "      <td>0</td>\n",
              "      <td>0</td>\n",
              "      <td>0</td>\n",
              "      <td>0</td>\n",
              "      <td>0</td>\n",
              "      <td>0</td>\n",
              "      <td>0</td>\n",
              "      <td>0</td>\n",
              "      <td>0</td>\n",
              "      <td>0</td>\n",
              "      <td>...</td>\n",
              "      <td>0</td>\n",
              "      <td>0</td>\n",
              "      <td>0</td>\n",
              "      <td>0</td>\n",
              "      <td>0</td>\n",
              "      <td>0</td>\n",
              "      <td>0</td>\n",
              "      <td>0</td>\n",
              "      <td>0</td>\n",
              "      <td>0</td>\n",
              "    </tr>\n",
              "    <tr>\n",
              "      <th>4455</th>\n",
              "      <td>0</td>\n",
              "      <td>0</td>\n",
              "      <td>0</td>\n",
              "      <td>0</td>\n",
              "      <td>0</td>\n",
              "      <td>0</td>\n",
              "      <td>0</td>\n",
              "      <td>0</td>\n",
              "      <td>0</td>\n",
              "      <td>0</td>\n",
              "      <td>...</td>\n",
              "      <td>0</td>\n",
              "      <td>0</td>\n",
              "      <td>0</td>\n",
              "      <td>0</td>\n",
              "      <td>0</td>\n",
              "      <td>0</td>\n",
              "      <td>0</td>\n",
              "      <td>0</td>\n",
              "      <td>0</td>\n",
              "      <td>0</td>\n",
              "    </tr>\n",
              "    <tr>\n",
              "      <th>4456</th>\n",
              "      <td>0</td>\n",
              "      <td>0</td>\n",
              "      <td>0</td>\n",
              "      <td>0</td>\n",
              "      <td>0</td>\n",
              "      <td>0</td>\n",
              "      <td>0</td>\n",
              "      <td>0</td>\n",
              "      <td>0</td>\n",
              "      <td>0</td>\n",
              "      <td>...</td>\n",
              "      <td>0</td>\n",
              "      <td>0</td>\n",
              "      <td>0</td>\n",
              "      <td>0</td>\n",
              "      <td>0</td>\n",
              "      <td>0</td>\n",
              "      <td>0</td>\n",
              "      <td>0</td>\n",
              "      <td>0</td>\n",
              "      <td>0</td>\n",
              "    </tr>\n",
              "  </tbody>\n",
              "</table>\n",
              "<p>4457 rows × 7711 columns</p>\n",
              "</div>"
            ],
            "text/plain": [
              "      00  000  008704050406  0121  01223585236  01223585334  0125698789  02  \\\n",
              "0      0    0             0     0            0            0           0   0   \n",
              "1      0    0             0     0            0            0           0   0   \n",
              "2      0    0             0     0            0            0           0   0   \n",
              "3      0    0             0     0            0            0           0   0   \n",
              "4      0    0             0     0            0            0           0   0   \n",
              "...   ..  ...           ...   ...          ...          ...         ...  ..   \n",
              "4452   0    0             0     0            0            0           0   0   \n",
              "4453   0    0             0     0            0            0           0   0   \n",
              "4454   0    0             0     0            0            0           0   0   \n",
              "4455   0    0             0     0            0            0           0   0   \n",
              "4456   0    0             0     0            0            0           0   0   \n",
              "\n",
              "      0207  02072069400  ...  zed  zeros  zhong  zindgi  zoe  zoom  zouk  \\\n",
              "0        0            0  ...    0      0      0       0    0     0     0   \n",
              "1        0            0  ...    0      0      0       0    0     0     0   \n",
              "2        0            0  ...    0      0      0       0    0     0     0   \n",
              "3        0            0  ...    0      0      0       0    0     0     0   \n",
              "4        0            0  ...    0      0      0       0    0     0     0   \n",
              "...    ...          ...  ...  ...    ...    ...     ...  ...   ...   ...   \n",
              "4452     0            0  ...    0      0      0       0    0     0     0   \n",
              "4453     0            0  ...    0      0      0       0    0     0     0   \n",
              "4454     0            0  ...    0      0      0       0    0     0     0   \n",
              "4455     0            0  ...    0      0      0       0    0     0     0   \n",
              "4456     0            0  ...    0      0      0       0    0     0     0   \n",
              "\n",
              "      zyada  èn  〨ud  \n",
              "0         0   0    0  \n",
              "1         0   0    0  \n",
              "2         0   0    0  \n",
              "3         0   0    0  \n",
              "4         0   0    0  \n",
              "...     ...  ..  ...  \n",
              "4452      0   0    0  \n",
              "4453      0   0    0  \n",
              "4454      0   0    0  \n",
              "4455      0   0    0  \n",
              "4456      0   0    0  \n",
              "\n",
              "[4457 rows x 7711 columns]"
            ]
          },
          "execution_count": 24,
          "metadata": {},
          "output_type": "execute_result"
        }
      ],
      "source": [
        "pd.DataFrame(X_train_cv.toarray(), columns=v.get_feature_names_out())"
      ]
    },
    {
      "cell_type": "code",
      "execution_count": null,
      "id": "7ed0a094",
      "metadata": {
        "id": "7ed0a094",
        "outputId": "d7f6bd76-ef30-4438-e3db-6955f6a97eb8"
      },
      "outputs": [
        {
          "data": {
            "text/plain": [
              "{'hi': 3423,\n",
              " 'where': 7442,\n",
              " 'are': 1051,\n",
              " 'you': 7674,\n",
              " 'we': 7370,\n",
              " 're': 5564,\n",
              " 'at': 1119,\n",
              " 'and': 963,\n",
              " 'they': 6794,\n",
              " 'not': 4813,\n",
              " 'keen': 3906,\n",
              " 'to': 6889,\n",
              " 'go': 3153,\n",
              " 'out': 4985,\n",
              " 'kind': 3940,\n",
              " 'of': 4872,\n",
              " 'am': 937,\n",
              " 'but': 1578,\n",
              " 'feel': 2795,\n",
              " 'shouldn': 6077,\n",
              " 'so': 6230,\n",
              " 'can': 1632,\n",
              " 'tomo': 6910,\n",
              " 'don': 2408,\n",
              " 'mind': 4474,\n",
              " 'do': 2377,\n",
              " 'if': 3593,\n",
              " 'home': 3469,\n",
              " 'then': 6782,\n",
              " 'come': 1908,\n",
              " 'down': 2433,\n",
              " 'within': 7511,\n",
              " 'min': 4471,\n",
              " 'when': 7438,\n",
              " 'guys': 3278,\n",
              " 'getting': 3116,\n",
              " 'back': 1196,\n",
              " 'said': 5845,\n",
              " 'were': 7419,\n",
              " 'thinking': 6804,\n",
              " 'about': 759,\n",
              " 'staying': 6408,\n",
              " 'for': 2927,\n",
              " 'mcr': 4392,\n",
              " 'tell': 6710,\n",
              " 'my': 4650,\n",
              " 'bad': 1199,\n",
              " 'character': 1738,\n",
              " 'which': 7448,\n",
              " 'dnt': 2376,\n",
              " 'lik': 4108,\n",
              " 'in': 3633,\n",
              " 'me': 4393,\n",
              " 'll': 4156,\n",
              " 'try': 7007,\n",
              " 'change': 1730,\n",
              " 'lt': 4243,\n",
              " 'gt': 3254,\n",
              " 'add': 813,\n",
              " 'tat': 6671,\n",
              " 'new': 4743,\n",
              " 'year': 7650,\n",
              " 'resolution': 5708,\n",
              " 'waiting': 7308,\n",
              " 'ur': 7147,\n",
              " 'reply': 5688,\n",
              " 'be': 1270,\n",
              " 'frank': 2963,\n",
              " 'good': 3177,\n",
              " 'morning': 4577,\n",
              " 'leaving': 4063,\n",
              " 'house': 3510,\n",
              " 'now': 4828,\n",
              " 'hey': 3419,\n",
              " 'watching': 7353,\n",
              " 'movie': 4595,\n",
              " 'tonight': 6918,\n",
              " 'prob': 5403,\n",
              " 'early': 2507,\n",
              " 'da': 2145,\n",
              " 'al': 901,\n",
              " 'above': 761,\n",
              " 'camera': 1629,\n",
              " 'awarded': 1171,\n",
              " 'sipix': 6131,\n",
              " 'digital': 2321,\n",
              " 'call': 1609,\n",
              " '09061221066': 186,\n",
              " 'fromm': 3010,\n",
              " 'landline': 4006,\n",
              " 'delivery': 2241,\n",
              " '28': 374,\n",
              " 'days': 2185,\n",
              " 'fyi': 3046,\n",
              " 'gonna': 3175,\n",
              " 'sporadically': 6357,\n",
              " 'starting': 6399,\n",
              " 'like': 4109,\n",
              " 'bc': 1258,\n",
              " 'doin': 2398,\n",
              " 'this': 6809,\n",
              " 'shit': 6050,\n",
              " 'stop': 6444,\n",
              " 'knowing': 3961,\n",
              " 'well': 7410,\n",
              " 'mmm': 4520,\n",
              " 'thats': 6770,\n",
              " 'better': 1330,\n",
              " 'got': 3194,\n",
              " 'roast': 5770,\n",
              " 'had': 3289,\n",
              " 'few': 2809,\n",
              " 'drinks': 2457,\n",
              " 'indian': 3656,\n",
              " 'want': 7328,\n",
              " 'tel': 6706,\n",
              " 'one': 4918,\n",
              " 'thing': 6799,\n",
              " 'should': 6076,\n",
              " 'mistake': 4508,\n",
              " 'is': 3746,\n",
              " 'the': 6771,\n",
              " 'message': 4445,\n",
              " 'that': 6768,\n",
              " 'sent': 5976,\n",
              " 'happened': 3324,\n",
              " 'here': 3409,\n",
              " 'while': 7449,\n",
              " 'adventuring': 839,\n",
              " 'on': 4914,\n",
              " 'way': 7365,\n",
              " 'email': 2569,\n",
              " 'id': 3581,\n",
              " 'soon': 6271,\n",
              " 'wen': 7413,\n",
              " 'lovable': 4221,\n",
              " 'bcums': 1267,\n",
              " 'angry': 968,\n",
              " 'wid': 7467,\n",
              " 'take': 6645,\n",
              " 'it': 3757,\n",
              " 'seriously': 5985,\n",
              " 'coz': 2050,\n",
              " 'being': 1306,\n",
              " 'most': 4581,\n",
              " 'childish': 1791,\n",
              " 'true': 6999,\n",
              " 'showing': 6086,\n",
              " 'deep': 2217,\n",
              " 'affection': 849,\n",
              " 'care': 1657,\n",
              " 'luv': 4258,\n",
              " 'kettoda': 3917,\n",
              " 'manda': 4330,\n",
              " 'have': 3354,\n",
              " 'nice': 4755,\n",
              " 'day': 2184,\n",
              " 'life': 4099,\n",
              " 'alle': 921,\n",
              " 'mone': 4556,\n",
              " 'eppolum': 2614,\n",
              " 'oru': 4972,\n",
              " 'pole': 5266,\n",
              " 'allalo': 919,\n",
              " 'there': 6788,\n",
              " 'size': 6146,\n",
              " 'elephant': 2562,\n",
              " 'tablets': 6633,\n",
              " 'shove': 6079,\n",
              " 'um': 7075,\n",
              " 'up': 7129,\n",
              " 'ass': 1104,\n",
              " 'brainless': 1482,\n",
              " 'baby': 1190,\n",
              " 'doll': 2402,\n",
              " 'vehicle': 7211,\n",
              " 'sariyag': 5872,\n",
              " 'drive': 2458,\n",
              " 'madoke': 4297,\n",
              " 'barolla': 1229,\n",
              " 'just': 3876,\n",
              " 'seeing': 5946,\n",
              " 'your': 7678,\n",
              " 'missed': 4500,\n",
              " 'dear': 2197,\n",
              " 'brother': 1526,\n",
              " 'gr8': 3206,\n",
              " 'dun': 2489,\n",
              " 'say': 5889,\n",
              " 'hor': 3491,\n",
              " 'already': 929,\n",
              " 'only': 4923,\n",
              " '500': 537,\n",
              " 'free': 2972,\n",
              " 'text': 6743,\n",
              " 'msgs': 4612,\n",
              " 'ok': 4895,\n",
              " '80488': 647,\n",
              " 'credit': 2074,\n",
              " 'account': 787,\n",
              " 'won': 7539,\n",
              " 'as': 1087,\n",
              " 'valued': 7194,\n",
              " 'vodafone': 7266,\n",
              " 'customer': 2130,\n",
              " 'our': 4983,\n",
              " 'computer': 1946,\n",
              " 'has': 3340,\n",
              " 'picked': 5180,\n",
              " 'win': 7481,\n",
              " '150': 297,\n",
              " 'prize': 5400,\n",
              " 'collect': 1896,\n",
              " 'easy': 2517,\n",
              " '09061743386': 191,\n",
              " 'think': 6801,\n",
              " 'syllabus': 6619,\n",
              " 'networking': 4736,\n",
              " 'job': 3831,\n",
              " 'wat': 7349,\n",
              " 'decision': 2210,\n",
              " 'much': 4623,\n",
              " 'buzy': 1587,\n",
              " 'times': 6859,\n",
              " 'today': 6895,\n",
              " 'umma': 7076,\n",
              " 'ask': 1096,\n",
              " 'them': 6779,\n",
              " 'speed': 6321,\n",
              " 'means': 4399,\n",
              " 'still': 6431,\n",
              " 'teju': 6705,\n",
              " 'auction': 1139,\n",
              " 'round': 5795,\n",
              " 'highest': 3428,\n",
              " 'bid': 1345,\n",
              " '54': 557,\n",
              " 'next': 4751,\n",
              " 'maximum': 4385,\n",
              " '71': 613,\n",
              " 'send': 5968,\n",
              " 'bids': 1346,\n",
              " '10': 249,\n",
              " '83383': 668,\n",
              " 'luck': 4248,\n",
              " 'bored': 1437,\n",
              " 'housewives': 3511,\n",
              " 'chat': 1752,\n",
              " 'date': 2176,\n",
              " '0871750': 131,\n",
              " '77': 624,\n",
              " '11': 263,\n",
              " 'bt': 1540,\n",
              " 'national': 4688,\n",
              " 'rate': 5548,\n",
              " '10p': 260,\n",
              " 'from': 3009,\n",
              " 'landlines': 4008,\n",
              " 'derp': 2264,\n",
              " 'worse': 7570,\n",
              " 'dude': 2482,\n",
              " 'who': 7454,\n",
              " 'always': 935,\n",
              " 'wants': 7332,\n",
              " 'party': 5071,\n",
              " 'or': 4950,\n",
              " 'files': 2831,\n",
              " 'complaint': 1933,\n",
              " 'three': 6826,\n",
              " 'drug': 2468,\n",
              " 'abusers': 770,\n",
              " 'he': 3363,\n",
              " 'lives': 4153,\n",
              " 'with': 7509,\n",
              " 'give': 3136,\n",
              " 'thanks': 6760,\n",
              " 'no': 4779,\n",
              " 'pic': 5178,\n",
              " 'please': 5229,\n",
              " 'billion': 1353,\n",
              " 'classes': 1836,\n",
              " 'right': 5752,\n",
              " 'horrible': 3495,\n",
              " 'bf': 1338,\n",
              " 'hungry': 3544,\n",
              " 'yetty': 7664,\n",
              " 'number': 4839,\n",
              " 'pls': 5237,\n",
              " 'what': 7432,\n",
              " 'mean': 4395,\n",
              " 'was': 7342,\n",
              " 'left': 4066,\n",
              " 'too': 6922,\n",
              " 'check': 1762,\n",
              " 'cos': 2022,\n",
              " 'working': 7560,\n",
              " 'sucks': 6527,\n",
              " 'planned': 5217,\n",
              " 'yo': 7669,\n",
              " 'valentine': 7188,\n",
              " 'aren': 1053,\n",
              " 'oh': 4890,\n",
              " 'howda': 3515,\n",
              " 'gud': 3260,\n",
              " 'mathe': 4372,\n",
              " 'en': 2579,\n",
              " 'samachara': 5858,\n",
              " 'chikku': 1789,\n",
              " 'nokia': 4789,\n",
              " 'motorola': 4589,\n",
              " 'upto': 7146,\n",
              " '12mths': 283,\n",
              " '2price': 409,\n",
              " 'linerental': 4124,\n",
              " 'net': 4729,\n",
              " 'mins': 4485,\n",
              " '100txt': 255,\n",
              " 'mth': 4615,\n",
              " 'tooth': 6928,\n",
              " 'mobileupd8': 4536,\n",
              " '08001950382': 52,\n",
              " '2optout': 407,\n",
              " 'd3wv': 2144,\n",
              " 'edison': 2531,\n",
              " 'rightly': 5754,\n",
              " 'fool': 2919,\n",
              " 'more': 4573,\n",
              " 'questions': 5505,\n",
              " 'than': 6756,\n",
              " 'wise': 7500,\n",
              " 'man': 4324,\n",
              " 'answer': 982,\n",
              " 'know': 3960,\n",
              " 'why': 7462,\n",
              " 'all': 917,\n",
              " 'us': 7161,\n",
              " 'speechless': 6320,\n",
              " 'during': 2494,\n",
              " 'viva': 7262,\n",
              " 'gm': 3147,\n",
              " 'gn': 3149,\n",
              " 'ge': 3087,\n",
              " 'gnt': 3151,\n",
              " 'symptoms': 6622,\n",
              " 'love': 4222,\n",
              " 'listening': 4142,\n",
              " 'songs': 6267,\n",
              " 'get': 3108,\n",
              " 'stopped': 6449,\n",
              " 'see': 5944,\n",
              " 'name': 4669,\n",
              " 'beloved': 1316,\n",
              " 'sir': 6133,\n",
              " 'goodmorning': 3182,\n",
              " 'once': 4917,\n",
              " 'real': 5574,\n",
              " 'tho': 6815,\n",
              " 'even': 2649,\n",
              " 'cook': 2004,\n",
              " 'whole': 7456,\n",
              " 'electricity': 2561,\n",
              " 'alrite': 931,\n",
              " 'jod': 3834,\n",
              " 'hows': 3518,\n",
              " 'revision': 5740,\n",
              " 'goin': 3163,\n",
              " 'keris': 3916,\n",
              " 'bin': 1358,\n",
              " 'smidgin': 6199,\n",
              " 'wanna': 7326,\n",
              " 'cum': 2116,\n",
              " 'over': 5003,\n",
              " 'after': 859,\n",
              " 'college': 1901,\n",
              " 'xx': 7625,\n",
              " 'ugh': 7065,\n",
              " 'hopefully': 3488,\n",
              " 'asus': 1117,\n",
              " 'ppl': 5325,\n",
              " 'dont': 2412,\n",
              " 'randomly': 5542,\n",
              " 'reformat': 5630,\n",
              " 'serving': 5989,\n",
              " 'doing': 2400,\n",
              " 'imagine': 3611,\n",
              " 'finally': 2843,\n",
              " 'sink': 6129,\n",
              " 'into': 3712,\n",
              " 'bath': 1244,\n",
              " 'put': 5484,\n",
              " 'through': 6830,\n",
              " 'paces': 5022,\n",
              " 'maybe': 4388,\n",
              " 'having': 3359,\n",
              " 'eat': 2518,\n",
              " 'before': 1295,\n",
              " 'also': 932,\n",
              " 'cage': 1601,\n",
              " 'cock': 1881,\n",
              " 'surrounded': 6584,\n",
              " 'by': 1594,\n",
              " 'water': 7355,\n",
              " 'reminding': 5669,\n",
              " 'owns': 5016,\n",
              " 'enjoy': 2593,\n",
              " 'cuck': 2109,\n",
              " 'promise': 5427,\n",
              " 'treat': 6980,\n",
              " 'bet': 1326,\n",
              " 'will': 7478,\n",
              " 'wait': 7305,\n",
              " 'cornwall': 2014,\n",
              " 'hope': 3486,\n",
              " 'isn': 3752,\n",
              " 'rock': 5773,\n",
              " 'night': 4763,\n",
              " 'shite': 6051,\n",
              " 'anyway': 1004,\n",
              " 'going': 3164,\n",
              " 'kip': 3947,\n",
              " 'speak': 6311,\n",
              " 'thank': 6759,\n",
              " 'skyped': 6160,\n",
              " 'wit': 7508,\n",
              " 'kz': 3979,\n",
              " 'sura': 6574,\n",
              " 'didnt': 2307,\n",
              " 'pleasure': 5232,\n",
              " 'company': 1926,\n",
              " 've': 7208,\n",
              " 'given': 3137,\n",
              " 'ultimatum': 7074,\n",
              " 'countin': 2035,\n",
              " 'aburo': 769,\n",
              " 'interflora': 3704,\n",
              " 'late': 4027,\n",
              " 'order': 4958,\n",
              " 'flowers': 2897,\n",
              " 'christmas': 1818,\n",
              " '0800': 46,\n",
              " '505060': 539,\n",
              " 'place': 5208,\n",
              " 'midnight': 4458,\n",
              " 'tomorrow': 6912,\n",
              " 'time': 6858,\n",
              " 'xin': 7620,\n",
              " 'hostel': 3501,\n",
              " 'wasn': 7344,\n",
              " 'available': 1156,\n",
              " 'washob': 7343,\n",
              " 'nobbing': 4781,\n",
              " 'last': 4024,\n",
              " 'nickey': 4758,\n",
              " 'platt': 5220,\n",
              " 'instead': 3694,\n",
              " 'registered': 5641,\n",
              " 'sinco': 6123,\n",
              " 'payee': 5100,\n",
              " 'log': 4172,\n",
              " 'icicibank': 3578,\n",
              " 'com': 1905,\n",
              " 'enter': 2599,\n",
              " 'urn': 7159,\n",
              " 'confirm': 1960,\n",
              " 'beware': 1336,\n",
              " 'frauds': 2967,\n",
              " 'share': 6022,\n",
              " 'disclose': 2348,\n",
              " 'anyone': 996,\n",
              " 'sexy': 6001,\n",
              " 'buns': 1562,\n",
              " 'told': 6903,\n",
              " 'adore': 827,\n",
              " 'loverboy': 4228,\n",
              " 'remember': 5662,\n",
              " 'sister': 6136,\n",
              " 'law': 4041,\n",
              " 'those': 6816,\n",
              " 'meatballs': 4404,\n",
              " 'grins': 3237,\n",
              " 'babe': 1188,\n",
              " 'important': 3624,\n",
              " 'prevent': 5378,\n",
              " 'dehydration': 2230,\n",
              " 'giving': 3139,\n",
              " 'her': 3408,\n",
              " 'enough': 2598,\n",
              " 'fluids': 2899,\n",
              " 'smsservices': 6215,\n",
              " 'yourinclusive': 7680,\n",
              " 'credits': 2076,\n",
              " 'goto': 3197,\n",
              " 'www': 7610,\n",
              " 'comuk': 1948,\n",
              " 'login': 4175,\n",
              " '3qxj9': 468,\n",
              " 'unsubscribe': 7124,\n",
              " 'extra': 2722,\n",
              " 'charge': 1740,\n",
              " 'help': 3396,\n",
              " '08702840625': 83,\n",
              " '220': 356,\n",
              " 'cm2': 1868,\n",
              " '9ae': 735,\n",
              " 'japanese': 3795,\n",
              " 'proverb': 5447,\n",
              " 'none': 4795,\n",
              " 'must': 4646,\n",
              " 'version': 7220,\n",
              " 'let': 4084,\n",
              " 'him': 3432,\n",
              " 'leave': 4061,\n",
              " 'kerala': 3914,\n",
              " 'make': 4314,\n",
              " 'strike': 6469,\n",
              " 'against': 866,\n",
              " 'hello': 3394,\n",
              " 'site': 6139,\n",
              " 'download': 2434,\n",
              " 'its': 3764,\n",
              " 'urgent': 7151,\n",
              " 'god': 3159,\n",
              " 'google': 3189,\n",
              " 'nearby': 4703,\n",
              " 'cliffs': 1850,\n",
              " 'congratulations': 1967,\n",
              " 'cd': 1703,\n",
              " 'vouchers': 7277,\n",
              " '125gift': 280,\n",
              " 'guaranteed': 3258,\n",
              " 'entry': 2608,\n",
              " '100': 250,\n",
              " 'wkly': 7522,\n",
              " 'draw': 2446,\n",
              " 'txt': 7044,\n",
              " 'music': 4643,\n",
              " '87066': 689,\n",
              " 'probably': 5404,\n",
              " 'money': 4557,\n",
              " 'worries': 7567,\n",
              " 'things': 6800,\n",
              " 'coming': 1914,\n",
              " 'due': 2485,\n",
              " 'several': 5997,\n",
              " 'outstanding': 5000,\n",
              " 'invoices': 3725,\n",
              " 'work': 7556,\n",
              " 'did': 2305,\n",
              " 'two': 7042,\n",
              " 'months': 4569,\n",
              " 'ago': 876,\n",
              " 'seen': 5952,\n",
              " 'holby': 3460,\n",
              " 'online': 4922,\n",
              " 'yahoo': 7636,\n",
              " 'would': 7578,\n",
              " 'someday': 6247,\n",
              " 'any': 993,\n",
              " 'file': 2830,\n",
              " 'bag': 1203,\n",
              " 'called': 1615,\n",
              " 'find': 2846,\n",
              " 'anything': 1001,\n",
              " 'room': 5787,\n",
              " 'adult': 835,\n",
              " '18': 313,\n",
              " 'content': 1986,\n",
              " 'video': 7232,\n",
              " 'shortly': 6072,\n",
              " 'doesnt': 2389,\n",
              " 'sense': 5973,\n",
              " 'unless': 7113,\n",
              " 'need': 4711,\n",
              " 'wikipedia': 7474,\n",
              " 'contents': 1989,\n",
              " 'page': 5027,\n",
              " 'opinion': 4939,\n",
              " 'jada': 3783,\n",
              " 'kusruthi': 3977,\n",
              " 'silent': 6114,\n",
              " 'spl': 6342,\n",
              " 'matured': 4379,\n",
              " 'stylish': 6501,\n",
              " 'simple': 6119,\n",
              " 'xmas': 7621,\n",
              " 'story': 6456,\n",
              " 'peace': 5106,\n",
              " 'msg': 4606,\n",
              " 'miracle': 4490,\n",
              " 'jesus': 3819,\n",
              " 'hav': 3351,\n",
              " 'blessed': 1388,\n",
              " 'month': 4566,\n",
              " 'ahead': 880,\n",
              " 'amp': 953,\n",
              " 'wish': 7501,\n",
              " 'merry': 4442,\n",
              " 'thanx': 6765,\n",
              " 'weekly': 7397,\n",
              " 'comp': 1923,\n",
              " 'chance': 1729,\n",
              " 'an': 959,\n",
              " 'ipod': 3734,\n",
              " 'pod': 5259,\n",
              " '80182': 645,\n",
              " 'std': 6410,\n",
              " 'apply': 1028,\n",
              " '08452810073': 69,\n",
              " 'details': 2279,\n",
              " 'went': 7416,\n",
              " 'batt': 1248,\n",
              " 'watch': 7350,\n",
              " 'shop': 6062,\n",
              " 'bit': 1368,\n",
              " 'lor': 4201,\n",
              " 'prepare': 5358,\n",
              " 'pounded': 5317,\n",
              " 'every': 2655,\n",
              " 'taking': 6650,\n",
              " 'part': 5066,\n",
              " 'mobile': 4532,\n",
              " 'survey': 6585,\n",
              " 'yesterday': 7662,\n",
              " 'texts': 6753,\n",
              " 'use': 7165,\n",
              " 'however': 3517,\n",
              " 'txts': 7052,\n",
              " '80160': 644,\n",
              " 'txt43': 7046,\n",
              " '50p': 543,\n",
              " 'very': 7222,\n",
              " 'inconvenient': 3647,\n",
              " 'sis': 6135,\n",
              " 'huh': 3536,\n",
              " 'yes': 7660,\n",
              " 'appt': 1038,\n",
              " 'again': 865,\n",
              " 'ah': 878,\n",
              " 'sen': 5967,\n",
              " 'selected': 5957,\n",
              " 'yet': 7663,\n",
              " 'keep': 3907,\n",
              " 'touch': 6947,\n",
              " 'easiest': 2512,\n",
              " 'barcelona': 1223,\n",
              " 'how': 3513,\n",
              " 'ru': 5810,\n",
              " 'cramps': 2060,\n",
              " 'sleep': 6165,\n",
              " 'anywhere': 1006,\n",
              " 'damn': 2154,\n",
              " 'hunting': 3548,\n",
              " 'been': 1290,\n",
              " 'searching': 5927,\n",
              " 'words': 7555,\n",
              " 'breather': 1501,\n",
              " 'wont': 7546,\n",
              " 'granted': 3219,\n",
              " 'fulfil': 3026,\n",
              " 'wonderful': 7543,\n",
              " 'blessing': 1389,\n",
              " 'car': 1652,\n",
              " 'keys': 3920,\n",
              " 'purse': 5479,\n",
              " 'yun': 7692,\n",
              " 'buying': 1585,\n",
              " 'school': 5901,\n",
              " 'offer': 4876,\n",
              " '2000': 343,\n",
              " 'plus': 5242,\n",
              " 'she': 6029,\n",
              " 'bedroom': 1288,\n",
              " 'minute': 4487,\n",
              " 'sed': 5943,\n",
              " 'mood': 4570,\n",
              " 'came': 1628,\n",
              " 'minuts': 4489,\n",
              " 'latr': 4032,\n",
              " 'cake': 1602,\n",
              " 'wife': 7470,\n",
              " 'medical': 4407,\n",
              " 'missions': 4504,\n",
              " 'nigeria': 4761,\n",
              " 'takin': 6649,\n",
              " 'shower': 6083,\n",
              " 'yeah': 7649,\n",
              " 'done': 2410,\n",
              " 'first': 2861,\n",
              " 'question': 5503,\n",
              " 'reached': 5567,\n",
              " 'sch': 5899,\n",
              " 'winner': 7491,\n",
              " 'mr': 4601,\n",
              " 'foley': 2907,\n",
              " 'exciting': 2686,\n",
              " 'prizes': 5402,\n",
              " 'eye': 2725,\n",
              " 'visit': 7258,\n",
              " '82050': 655,\n",
              " 'co': 1875,\n",
              " 'uk': 7069,\n",
              " 'hahaha': 3293,\n",
              " 'brain': 1480,\n",
              " 'chuckin': 1820,\n",
              " 'red': 5621,\n",
              " 'green': 3231,\n",
              " 'black': 1375,\n",
              " 'trainners': 6963,\n",
              " 'save': 5884,\n",
              " 'carryin': 1675,\n",
              " 'bac': 1195,\n",
              " 'train': 6960,\n",
              " 'sure': 6575,\n",
              " 'driving': 2461,\n",
              " 'reach': 5565,\n",
              " 'destination': 2277,\n",
              " 'confuses': 1965,\n",
              " 'doesn': 2388,\n",
              " 'nothing': 4818,\n",
              " 'scream': 5916,\n",
              " 'moan': 4529,\n",
              " 'bed': 1285,\n",
              " 'princess': 5390,\n",
              " 'wow': 7582,\n",
              " 'boys': 1476,\n",
              " '2007': 348,\n",
              " 'tour': 6950,\n",
              " 'vip': 7250,\n",
              " 'tickets': 6847,\n",
              " 'pre': 5348,\n",
              " 'book': 1428,\n",
              " 'club': 1862,\n",
              " '81303': 653,\n",
              " 'trackmarque': 6956,\n",
              " 'ltd': 4244,\n",
              " 'info': 3666,\n",
              " 'vipclub4u': 7251,\n",
              " 'mum': 4629,\n",
              " 'leh': 4070,\n",
              " 'possible': 5303,\n",
              " 'dint': 2331,\n",
              " 'slowly': 6186,\n",
              " 'clean': 1840,\n",
              " 'heart': 3377,\n",
              " 'blood': 1401,\n",
              " 'ten': 6721,\n",
              " 'special': 6313,\n",
              " 'people': 5120,\n",
              " 'sitting': 6141,\n",
              " 'ard': 1050,\n",
              " 'busy': 1577,\n",
              " 'weather': 7379,\n",
              " 'cali': 1606,\n",
              " 'great': 3229,\n",
              " 'complexities': 1940,\n",
              " 'move': 4592,\n",
              " 'freely': 2977,\n",
              " 'taxes': 6678,\n",
              " 'outrageous': 4994,\n",
              " 'sad': 5840,\n",
              " 'missing': 4502,\n",
              " 'same': 5861,\n",
              " '2p': 408,\n",
              " 'per': 5122,\n",
              " 'germany': 3107,\n",
              " '08448350055': 64,\n",
              " 'line': 4121,\n",
              " 'planettalkinstant': 5216,\n",
              " 'opt': 4944,\n",
              " 'may': 4386,\n",
              " 'dismay': 2357,\n",
              " 'many': 4339,\n",
              " 'goes': 3161,\n",
              " 'sip': 6130,\n",
              " 'cappuccino': 1648,\n",
              " 'kiss': 3949,\n",
              " 'across': 798,\n",
              " 'sea': 5925,\n",
              " 'drink': 2454,\n",
              " 'plenty': 5234,\n",
              " 'believe': 1307,\n",
              " 'tot': 6943,\n",
              " 'thk': 6810,\n",
              " 'muz': 4648,\n",
              " 'tog': 6898,\n",
              " '200': 342,\n",
              " 'award': 1170,\n",
              " '1000': 251,\n",
              " 'cashto': 1683,\n",
              " 'claim': 1829,\n",
              " '08000407165': 47,\n",
              " 'getstop': 3114,\n",
              " '88222': 700,\n",
              " 'php': 5173,\n",
              " 'rg21': 5743,\n",
              " '4jx': 523,\n",
              " 'quit': 5509,\n",
              " 'hmmm': 3450,\n",
              " 'jazz': 3802,\n",
              " 'yogasana': 7671,\n",
              " 'oso': 4974,\n",
              " 'meet': 4411,\n",
              " 'em': 2568,\n",
              " 'lessons': 4083,\n",
              " 'den': 2246,\n",
              " 'playing': 5226,\n",
              " 'gautham': 3075,\n",
              " 'gran': 3214,\n",
              " 'onlyfound': 4924,\n",
              " 'afew': 846,\n",
              " 'cusoon': 2126,\n",
              " 'honi': 3478,\n",
              " 'aight': 886,\n",
              " 'mu': 4621,\n",
              " 'swing': 6611,\n",
              " 'somebody': 6246,\n",
              " 'door': 2418,\n",
              " 'sorry': 6280,\n",
              " 'gone': 3173,\n",
              " 'really': 5583,\n",
              " 'private': 5397,\n",
              " '2003': 344,\n",
              " 'statement': 6402,\n",
              " '07753741225': 28,\n",
              " 'shows': 6088,\n",
              " '800': 636,\n",
              " 'un': 7080,\n",
              " 'redeemed': 5622,\n",
              " 'points': 5263,\n",
              " '08715203677': 124,\n",
              " 'identifier': 3587,\n",
              " 'code': 1884,\n",
              " '42478': 488,\n",
              " 'expires': 2709,\n",
              " '24': 361,\n",
              " '04': 14,\n",
              " 'rite': 5765,\n",
              " 'evey': 2666,\n",
              " 'mnth': 4526,\n",
              " 'since': 6122,\n",
              " 'parents': 5059,\n",
              " 'tuesday': 7020,\n",
              " 'cover': 2047,\n",
              " 'seems': 5951,\n",
              " 'unnecessarily': 7117,\n",
              " 'affectionate': 850,\n",
              " 'holla': 3465,\n",
              " 'cant': 1644,\n",
              " 'spare': 6306,\n",
              " 'off': 4874,\n",
              " 'top': 6930,\n",
              " 'head': 3364,\n",
              " 'miles': 4465,\n",
              " 'smiles': 6201,\n",
              " 'made': 4295,\n",
              " 'frm': 3000,\n",
              " 'letters': 4087,\n",
              " 'difference': 2314,\n",
              " 'smile': 6200,\n",
              " 'face': 2731,\n",
              " 'keeps': 3909,\n",
              " 'happy': 3331,\n",
              " 'though': 6819,\n",
              " 'away': 1172,\n",
              " 'smiling': 6203,\n",
              " 'nyt': 4854,\n",
              " 'exhausted': 2694,\n",
              " 'wine': 7487,\n",
              " 'pie': 5187,\n",
              " 'incredible': 3650,\n",
              " 'learn': 4058,\n",
              " 'truly': 7002,\n",
              " 'amazing': 939,\n",
              " 'blow': 1404,\n",
              " 'o2fwd': 4858,\n",
              " '18p': 316,\n",
              " 'mail': 4306,\n",
              " 'cash': 1680,\n",
              " 'balance': 1209,\n",
              " 'currently': 2124,\n",
              " 'pounds': 5318,\n",
              " 'maximize': 4384,\n",
              " '86688': 686,\n",
              " '150p': 299,\n",
              " 'cc': 1700,\n",
              " '08708800282': 91,\n",
              " 'hg': 3421,\n",
              " 'suite342': 6541,\n",
              " '2lands': 395,\n",
              " 'row': 5798,\n",
              " 'w1j6hl': 7288,\n",
              " 'lot': 4209,\n",
              " 'feels': 2798,\n",
              " 'quiet': 5508,\n",
              " 'beth': 1328,\n",
              " 'aunts': 1147,\n",
              " 'charlie': 1745,\n",
              " 'lots': 4211,\n",
              " 'helen': 3390,\n",
              " 'mo': 4528,\n",
              " 'needs': 4716,\n",
              " 'dat': 2174,\n",
              " 'vomit': 7271,\n",
              " '1st': 330,\n",
              " 'week': 7393,\n",
              " 'no1': 4780,\n",
              " 'tone': 6913,\n",
              " '8077': 649,\n",
              " 'txting': 7050,\n",
              " 'mates': 4370,\n",
              " 'getzed': 3117,\n",
              " 'pobox': 5248,\n",
              " '36504': 447,\n",
              " 'w45wq': 7292,\n",
              " '16': 308,\n",
              " 'norm150p': 4806,\n",
              " 'created': 2072,\n",
              " 'gap': 3063,\n",
              " 'between': 1333,\n",
              " 'fingers': 2850,\n",
              " 'comes': 1910,\n",
              " 'fills': 2835,\n",
              " 'gaps': 3064,\n",
              " 'holding': 3463,\n",
              " 'hand': 3309,\n",
              " 'tiwary': 6876,\n",
              " 'rcb': 5557,\n",
              " 'battle': 1250,\n",
              " 'bang': 1216,\n",
              " 'kochi': 3966,\n",
              " 'costa': 2025,\n",
              " 'del': 2231,\n",
              " 'sol': 6238,\n",
              " 'holiday': 3464,\n",
              " '5000': 538,\n",
              " 'await': 1167,\n",
              " 'collection': 1899,\n",
              " '09050090044': 164,\n",
              " 'toclaim': 6894,\n",
              " 'sae': 5841,\n",
              " 'tcs': 6688,\n",
              " 'pobox334': 5251,\n",
              " 'stockport': 6436,\n",
              " 'sk38xh': 6149,\n",
              " 'cost': 2024,\n",
              " '50': 536,\n",
              " 'pm': 5245,\n",
              " 'max10mins': 4382,\n",
              " 'messages': 4447,\n",
              " 'valid': 7190,\n",
              " 'until': 7127,\n",
              " '31': 435,\n",
              " 'december': 2204,\n",
              " '2005': 346,\n",
              " 'unique': 7105,\n",
              " '30th': 434,\n",
              " 'august': 1144,\n",
              " 'areyouunique': 1057,\n",
              " 'awake': 1169,\n",
              " 'loving': 4232,\n",
              " 'bold': 1421,\n",
              " 'bb': 1253,\n",
              " 'torch': 6937,\n",
              " 'haf': 3291,\n",
              " 'passport': 5080,\n",
              " 'smth': 6216,\n",
              " 'juz': 3879,\n",
              " 'double': 2426,\n",
              " 'orange': 4954,\n",
              " 'price': 5383,\n",
              " 'sonyericsson': 6269,\n",
              " '08000839402': 49,\n",
              " 'or2optout': 4951,\n",
              " 'hv9d': 3558,\n",
              " 'miss': 4498,\n",
              " 'saw': 5888,\n",
              " 'persons': 5144,\n",
              " 'library': 4093,\n",
              " 'run': 5822,\n",
              " 'walk': 7312,\n",
              " 'kills': 3938,\n",
              " 'ya': 7634,\n",
              " '4goten': 521,\n",
              " 'bout': 1451,\n",
              " 'scammers': 5894,\n",
              " 'smart': 6191,\n",
              " 'regular': 5645,\n",
              " 'respond': 5713,\n",
              " 'further': 3041,\n",
              " 'prem': 5353,\n",
              " 'subscription': 6516,\n",
              " 'other': 4976,\n",
              " 'nos': 4811,\n",
              " 'used': 7166,\n",
              " 'sweet': 6603,\n",
              " 'wondering': 7544,\n",
              " 'moment': 4551,\n",
              " 'might': 4460,\n",
              " 'someone': 6248,\n",
              " 'because': 1280,\n",
              " ...}"
            ]
          },
          "execution_count": 25,
          "metadata": {},
          "output_type": "execute_result"
        }
      ],
      "source": [
        "v.vocabulary_"
      ]
    },
    {
      "cell_type": "code",
      "execution_count": null,
      "id": "a805af1f",
      "metadata": {
        "id": "a805af1f",
        "outputId": "2f709d9f-15d1-4f01-b0fb-efb19cc8aa39"
      },
      "outputs": [
        {
          "data": {
            "text/plain": [
              "array([0, 0, 0, ..., 0, 0, 0], dtype=int64)"
            ]
          },
          "execution_count": 26,
          "metadata": {},
          "output_type": "execute_result"
        }
      ],
      "source": [
        "X_train_np = X_train_cv.toarray()\n",
        "X_train_np[0]"
      ]
    },
    {
      "cell_type": "code",
      "execution_count": null,
      "id": "79aa94f4",
      "metadata": {
        "id": "79aa94f4"
      },
      "outputs": [],
      "source": [
        "np.where(X_train_np[0]!=0)"
      ]
    },
    {
      "cell_type": "code",
      "execution_count": null,
      "id": "50a37c71",
      "metadata": {
        "scrolled": true,
        "id": "50a37c71"
      },
      "outputs": [],
      "source": [
        "X_train_np[0][1771]"
      ]
    },
    {
      "cell_type": "markdown",
      "id": "e6ea444a",
      "metadata": {
        "id": "e6ea444a"
      },
      "source": [
        "<h3>Train the naive bayes model</h3>"
      ]
    },
    {
      "cell_type": "code",
      "execution_count": null,
      "id": "bf02cecc",
      "metadata": {
        "id": "bf02cecc",
        "outputId": "eb452d8c-81a9-4e8f-90bb-0399bab3cca4"
      },
      "outputs": [
        {
          "data": {
            "text/html": [
              "<style>#sk-container-id-1 {color: black;}#sk-container-id-1 pre{padding: 0;}#sk-container-id-1 div.sk-toggleable {background-color: white;}#sk-container-id-1 label.sk-toggleable__label {cursor: pointer;display: block;width: 100%;margin-bottom: 0;padding: 0.3em;box-sizing: border-box;text-align: center;}#sk-container-id-1 label.sk-toggleable__label-arrow:before {content: \"▸\";float: left;margin-right: 0.25em;color: #696969;}#sk-container-id-1 label.sk-toggleable__label-arrow:hover:before {color: black;}#sk-container-id-1 div.sk-estimator:hover label.sk-toggleable__label-arrow:before {color: black;}#sk-container-id-1 div.sk-toggleable__content {max-height: 0;max-width: 0;overflow: hidden;text-align: left;background-color: #f0f8ff;}#sk-container-id-1 div.sk-toggleable__content pre {margin: 0.2em;color: black;border-radius: 0.25em;background-color: #f0f8ff;}#sk-container-id-1 input.sk-toggleable__control:checked~div.sk-toggleable__content {max-height: 200px;max-width: 100%;overflow: auto;}#sk-container-id-1 input.sk-toggleable__control:checked~label.sk-toggleable__label-arrow:before {content: \"▾\";}#sk-container-id-1 div.sk-estimator input.sk-toggleable__control:checked~label.sk-toggleable__label {background-color: #d4ebff;}#sk-container-id-1 div.sk-label input.sk-toggleable__control:checked~label.sk-toggleable__label {background-color: #d4ebff;}#sk-container-id-1 input.sk-hidden--visually {border: 0;clip: rect(1px 1px 1px 1px);clip: rect(1px, 1px, 1px, 1px);height: 1px;margin: -1px;overflow: hidden;padding: 0;position: absolute;width: 1px;}#sk-container-id-1 div.sk-estimator {font-family: monospace;background-color: #f0f8ff;border: 1px dotted black;border-radius: 0.25em;box-sizing: border-box;margin-bottom: 0.5em;}#sk-container-id-1 div.sk-estimator:hover {background-color: #d4ebff;}#sk-container-id-1 div.sk-parallel-item::after {content: \"\";width: 100%;border-bottom: 1px solid gray;flex-grow: 1;}#sk-container-id-1 div.sk-label:hover label.sk-toggleable__label {background-color: #d4ebff;}#sk-container-id-1 div.sk-serial::before {content: \"\";position: absolute;border-left: 1px solid gray;box-sizing: border-box;top: 0;bottom: 0;left: 50%;z-index: 0;}#sk-container-id-1 div.sk-serial {display: flex;flex-direction: column;align-items: center;background-color: white;padding-right: 0.2em;padding-left: 0.2em;position: relative;}#sk-container-id-1 div.sk-item {position: relative;z-index: 1;}#sk-container-id-1 div.sk-parallel {display: flex;align-items: stretch;justify-content: center;background-color: white;position: relative;}#sk-container-id-1 div.sk-item::before, #sk-container-id-1 div.sk-parallel-item::before {content: \"\";position: absolute;border-left: 1px solid gray;box-sizing: border-box;top: 0;bottom: 0;left: 50%;z-index: -1;}#sk-container-id-1 div.sk-parallel-item {display: flex;flex-direction: column;z-index: 1;position: relative;background-color: white;}#sk-container-id-1 div.sk-parallel-item:first-child::after {align-self: flex-end;width: 50%;}#sk-container-id-1 div.sk-parallel-item:last-child::after {align-self: flex-start;width: 50%;}#sk-container-id-1 div.sk-parallel-item:only-child::after {width: 0;}#sk-container-id-1 div.sk-dashed-wrapped {border: 1px dashed gray;margin: 0 0.4em 0.5em 0.4em;box-sizing: border-box;padding-bottom: 0.4em;background-color: white;}#sk-container-id-1 div.sk-label label {font-family: monospace;font-weight: bold;display: inline-block;line-height: 1.2em;}#sk-container-id-1 div.sk-label-container {text-align: center;}#sk-container-id-1 div.sk-container {/* jupyter's `normalize.less` sets `[hidden] { display: none; }` but bootstrap.min.css set `[hidden] { display: none !important; }` so we also need the `!important` here to be able to override the default hidden behavior on the sphinx rendered scikit-learn.org. See: https://github.com/scikit-learn/scikit-learn/issues/21755 */display: inline-block !important;position: relative;}#sk-container-id-1 div.sk-text-repr-fallback {display: none;}</style><div id=\"sk-container-id-1\" class=\"sk-top-container\"><div class=\"sk-text-repr-fallback\"><pre>MultinomialNB()</pre><b>In a Jupyter environment, please rerun this cell to show the HTML representation or trust the notebook. <br />On GitHub, the HTML representation is unable to render, please try loading this page with nbviewer.org.</b></div><div class=\"sk-container\" hidden><div class=\"sk-item\"><div class=\"sk-estimator sk-toggleable\"><input class=\"sk-toggleable__control sk-hidden--visually\" id=\"sk-estimator-id-1\" type=\"checkbox\" checked><label for=\"sk-estimator-id-1\" class=\"sk-toggleable__label sk-toggleable__label-arrow\">MultinomialNB</label><div class=\"sk-toggleable__content\"><pre>MultinomialNB()</pre></div></div></div></div></div>"
            ],
            "text/plain": [
              "MultinomialNB()"
            ]
          },
          "execution_count": 27,
          "metadata": {},
          "output_type": "execute_result"
        }
      ],
      "source": [
        "from sklearn.naive_bayes import MultinomialNB\n",
        "\n",
        "model = MultinomialNB()\n",
        "model.fit(X_train_cv, y_train)"
      ]
    },
    {
      "cell_type": "markdown",
      "id": "101b8b8d",
      "metadata": {
        "id": "101b8b8d"
      },
      "source": [
        "<h3>Evaluate Performance</h3>"
      ]
    },
    {
      "cell_type": "code",
      "execution_count": null,
      "id": "9511722f",
      "metadata": {
        "id": "9511722f"
      },
      "outputs": [],
      "source": [
        "X_test_cv = v.transform(X_test)"
      ]
    },
    {
      "cell_type": "code",
      "execution_count": null,
      "id": "6450d17a",
      "metadata": {
        "id": "6450d17a",
        "outputId": "2d533582-8c38-4df9-ae34-f975712557f7"
      },
      "outputs": [
        {
          "data": {
            "text/plain": [
              "(1115, 7711)"
            ]
          },
          "execution_count": 31,
          "metadata": {},
          "output_type": "execute_result"
        }
      ],
      "source": [
        "X_test_cv.toarray().shape"
      ]
    },
    {
      "cell_type": "code",
      "execution_count": null,
      "id": "ce093abd",
      "metadata": {
        "id": "ce093abd",
        "outputId": "d3b2ef7d-66c6-4db6-abb0-6e03770e7163"
      },
      "outputs": [
        {
          "data": {
            "text/plain": [
              "0.989237668161435"
            ]
          },
          "execution_count": 32,
          "metadata": {},
          "output_type": "execute_result"
        }
      ],
      "source": [
        "model.score(X_test_cv, y_test)"
      ]
    },
    {
      "cell_type": "code",
      "execution_count": null,
      "id": "1c0cb441",
      "metadata": {
        "id": "1c0cb441"
      },
      "outputs": [],
      "source": [
        "from sklearn.metrics import classification_report\n",
        "\n",
        "y_pred = model.predict(X_test_cv)\n",
        "\n",
        "print(classification_report(y_test, y_pred))"
      ]
    },
    {
      "cell_type": "code",
      "execution_count": null,
      "id": "a6cec46f",
      "metadata": {
        "id": "a6cec46f"
      },
      "outputs": [],
      "source": [
        "emails = [\n",
        "    'Upto 20% discount on parking, exclusive offer just for you. Dont miss this reward!',\n",
        "    'Hey mohan, can we get together to watch footbal game tomorrow?'\n",
        "]"
      ]
    },
    {
      "cell_type": "code",
      "execution_count": null,
      "id": "92c2a836",
      "metadata": {
        "id": "92c2a836",
        "outputId": "93cde765-a305-4621-95e9-e93b841b68f5"
      },
      "outputs": [
        {
          "data": {
            "text/plain": [
              "(2, 7711)"
            ]
          },
          "execution_count": 34,
          "metadata": {},
          "output_type": "execute_result"
        }
      ],
      "source": [
        "emails_count = v.transform(emails)\n",
        "emails_count.toarray().shape"
      ]
    },
    {
      "cell_type": "code",
      "execution_count": null,
      "id": "c5825867",
      "metadata": {
        "id": "c5825867",
        "outputId": "6368fe5c-f99b-4b1e-90e5-d6526f8489fa"
      },
      "outputs": [
        {
          "data": {
            "text/plain": [
              "array(['spam', 'ham'], dtype='<U4')"
            ]
          },
          "execution_count": 35,
          "metadata": {},
          "output_type": "execute_result"
        }
      ],
      "source": [
        "#emails_count.toarray().shape\n",
        "model.predict(emails_count)"
      ]
    },
    {
      "cell_type": "markdown",
      "id": "22c9e2e2",
      "metadata": {
        "id": "22c9e2e2"
      },
      "source": [
        "<h3>Train the model using sklearn pipeline and reduce number of lines of code</h3>"
      ]
    },
    {
      "cell_type": "code",
      "execution_count": null,
      "id": "863f5ffa",
      "metadata": {
        "id": "863f5ffa"
      },
      "outputs": [],
      "source": [
        "from sklearn.pipeline import Pipeline\n",
        "\n",
        "clf = Pipeline([\n",
        "    ('vectorizer', CountVectorizer()),\n",
        "    ('nb', MultinomialNB())\n",
        "])"
      ]
    },
    {
      "cell_type": "code",
      "execution_count": null,
      "id": "26ecc1d4",
      "metadata": {
        "id": "26ecc1d4"
      },
      "outputs": [],
      "source": [
        "clf.fit(X_train, y_train)"
      ]
    },
    {
      "cell_type": "code",
      "execution_count": null,
      "id": "e7d9b00b",
      "metadata": {
        "id": "e7d9b00b"
      },
      "outputs": [],
      "source": [
        "y_pred = clf.predict(X_test)\n",
        "\n",
        "print(classification_report(y_test, y_pred))"
      ]
    },
    {
      "cell_type": "code",
      "execution_count": null,
      "id": "ea2e8340",
      "metadata": {
        "id": "ea2e8340"
      },
      "outputs": [],
      "source": []
    }
  ],
  "metadata": {
    "kernelspec": {
      "display_name": "Python 3 (ipykernel)",
      "language": "python",
      "name": "python3"
    },
    "language_info": {
      "codemirror_mode": {
        "name": "ipython",
        "version": 3
      },
      "file_extension": ".py",
      "mimetype": "text/x-python",
      "name": "python",
      "nbconvert_exporter": "python",
      "pygments_lexer": "ipython3",
      "version": "3.11.5"
    },
    "colab": {
      "provenance": []
    }
  },
  "nbformat": 4,
  "nbformat_minor": 5
}